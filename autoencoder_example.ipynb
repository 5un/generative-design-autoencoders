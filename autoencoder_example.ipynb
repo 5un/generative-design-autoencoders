{
 "cells": [
  {
   "cell_type": "code",
   "execution_count": 16,
   "metadata": {},
   "outputs": [
    {
     "name": "stdout",
     "output_type": "stream",
     "text": [
      "(66, 6162)\n"
     ]
    }
   ],
   "source": [
    "import numpy as np\n",
    "import pandas as pd\n",
    "import matplotlib.pyplot as plt\n",
    "import tensorflow as tf\n",
    "from tensorflow.examples.tutorials.mnist import input_data\n",
    "from tensorflow.contrib.layers import fully_connected\n",
    "\n",
    "# mnist = input_data.read_data_sets(\"MNIST_data\", one_hot=True)\n",
    "# shapes = pd.read_csv('./data/vectors_1.csv')\n",
    "shapes = pd.read_csv('./data/vectors_pillow.csv')\n",
    "# remove the first index col\n",
    "shapes = shapes.iloc[:,1:]\n",
    "print(shapes.shape)\n",
    "# print(shapes)\n"
   ]
  },
  {
   "cell_type": "code",
   "execution_count": 17,
   "metadata": {},
   "outputs": [],
   "source": [
    "# Params\n",
    "\n",
    "num_inputs = 6162    #28x28 pixels\n",
    "num_hid1 = 1000\n",
    "num_hid2 = 10\n",
    "num_hid3 = num_hid1\n",
    "num_output = num_inputs\n",
    "lr = 0.01\n",
    "actf = tf.nn.relu\n"
   ]
  },
  {
   "cell_type": "code",
   "execution_count": 18,
   "metadata": {},
   "outputs": [],
   "source": [
    "# Create Layers \n",
    "\n",
    "X = tf.placeholder(tf.float32,shape=[None,num_inputs])\n",
    "initializer = tf.variance_scaling_initializer()\n",
    "\n",
    "w1=tf.Variable(initializer([num_inputs,num_hid1]),dtype=tf.float32)\n",
    "w2=tf.Variable(initializer([num_hid1,num_hid2]),dtype=tf.float32)\n",
    "w3=tf.Variable(initializer([num_hid2,num_hid3]),dtype=tf.float32)\n",
    "w4=tf.Variable(initializer([num_hid3,num_output]),dtype=tf.float32)\n",
    "\n",
    "b1=tf.Variable(tf.zeros(num_hid1))\n",
    "b2=tf.Variable(tf.zeros(num_hid2))\n",
    "b3=tf.Variable(tf.zeros(num_hid3))\n",
    "b4=tf.Variable(tf.zeros(num_output))\n",
    "\n",
    "hid_layer1=actf(tf.matmul(X,w1) + b1)\n",
    "hid_layer2=actf(tf.matmul(hid_layer1,w2) + b2)\n",
    "hid_layer3=actf(tf.matmul(hid_layer2,w3) + b3)\n",
    "output_layer=actf(tf.matmul(hid_layer3,w4) + b4)\n",
    "\n",
    "loss = tf.reduce_mean(tf.square(output_layer-X))\n",
    "\n",
    "optimizer = tf.train.AdamOptimizer(lr)\n",
    "train = optimizer.minimize(loss)\n",
    "\n",
    "init = tf.global_variables_initializer()"
   ]
  },
  {
   "cell_type": "code",
   "execution_count": 23,
   "metadata": {},
   "outputs": [
    {
     "name": "stdout",
     "output_type": "stream",
     "text": [
      "epoch 0 loss 0.00022975204046815634\n",
      "epoch 1 loss 0.00019579593208618462\n",
      "epoch 2 loss 0.00017378581105731428\n",
      "epoch 3 loss 0.00015056066331453621\n",
      "epoch 4 loss 0.000131030916236341\n",
      "epoch 5 loss 0.00012273631000425667\n",
      "epoch 6 loss 0.00012899821740575135\n",
      "epoch 7 loss 0.00013621071411762387\n",
      "epoch 8 loss 0.00013316841796040535\n",
      "epoch 9 loss 0.00012529996456578374\n",
      "epoch 10 loss 0.00011959330004174262\n",
      "epoch 11 loss 0.00011875599011546001\n",
      "epoch 12 loss 0.00012090636300854385\n",
      "epoch 13 loss 0.00012342400441411883\n",
      "epoch 14 loss 0.0001247354957740754\n",
      "epoch 15 loss 0.00012454261013772339\n",
      "epoch 16 loss 0.00012300309026613832\n",
      "epoch 17 loss 0.00012075850827386603\n",
      "epoch 18 loss 0.00011867024295497686\n",
      "epoch 19 loss 0.00011742781498469412\n",
      "epoch 20 loss 0.00011737103341147304\n",
      "epoch 21 loss 0.00011830092262243852\n",
      "epoch 22 loss 0.0001194712458527647\n",
      "epoch 23 loss 0.0001200351252919063\n",
      "epoch 24 loss 0.0001196569501189515\n",
      "epoch 25 loss 0.0001186822191812098\n",
      "epoch 26 loss 0.00011774306767620146\n",
      "epoch 27 loss 0.00011726558295777068\n",
      "epoch 28 loss 0.00011731549602700397\n",
      "epoch 29 loss 0.00011767485557356849\n",
      "epoch 30 loss 0.00011804378300439566\n",
      "epoch 31 loss 0.00011819900828413665\n",
      "epoch 32 loss 0.00011808901035692543\n",
      "epoch 33 loss 0.00011778628686442971\n",
      "epoch 34 loss 0.00011743892537197098\n",
      "epoch 35 loss 0.00011719728354364634\n",
      "epoch 36 loss 0.00011715111031662673\n",
      "epoch 37 loss 0.00011727812670869753\n",
      "epoch 38 loss 0.00011746039672289044\n",
      "epoch 39 loss 0.00011755713785532862\n",
      "epoch 40 loss 0.00011749482655432075\n",
      "epoch 41 loss 0.00011730913684004918\n",
      "epoch 42 loss 0.00011711745173670352\n",
      "epoch 43 loss 0.00011702614574460313\n",
      "epoch 44 loss 0.00011705244105542079\n",
      "epoch 45 loss 0.00011714577703969553\n",
      "epoch 46 loss 0.00011723590432666242\n",
      "epoch 47 loss 0.00011726793309208006\n",
      "epoch 48 loss 0.00011722827184712514\n",
      "epoch 49 loss 0.00011714619904523715\n",
      "results\n",
      "(66, 6162)\n"
     ]
    }
   ],
   "source": [
    "num_epoch=50\n",
    "batch_size=150\n",
    "num_test_images=10\n",
    "num_train = shapes.shape[0]\n",
    "\n",
    "with tf.Session() as sess:\n",
    "    sess.run(init)\n",
    "    for epoch in range(num_epoch):\n",
    "        \n",
    "        # num_batches=mnist.train.num_examples//batch_size\n",
    "        \n",
    "#         num_batches=num_train//batch_size\n",
    "#         for iteration in range(num_batches):\n",
    "#             # X_batch,y_batch=mnist.train.next_batch(batch_size)\n",
    "#             X_batch = shapes\n",
    "#             sess.run(train,feed_dict={X:X_batch})\n",
    "            \n",
    "        sess.run(train,feed_dict={X:shapes})\n",
    "            \n",
    "        train_loss=loss.eval(feed_dict={X:shapes})\n",
    "        print(\"epoch {} loss {}\".format(epoch,train_loss))\n",
    "        \n",
    "    results=output_layer.eval(feed_dict={X:shapes}, session=sess)\n",
    "    print('results')\n",
    "        \n",
    "    print(results.shape)\n",
    "    \n",
    "    #Comparing original images with reconstructions\n",
    "#     f,a = plt.subplots(2,10,figsize=(20,4))\n",
    "#     for i in range(num_test_images):\n",
    "#         a[0][i].imshow(np.reshape(mnist.test.images[i],(28,28)))\n",
    "#         a[1][i].imshow(np.reshape(results[i],(28,28)))\n",
    "        \n",
    "#     plt.show()"
   ]
  },
  {
   "cell_type": "code",
   "execution_count": 24,
   "metadata": {},
   "outputs": [],
   "source": [
    "pd.DataFrame(results).to_csv('./data/out_2.csv')"
   ]
  },
  {
   "cell_type": "code",
   "execution_count": null,
   "metadata": {},
   "outputs": [],
   "source": []
  }
 ],
 "metadata": {
  "kernelspec": {
   "display_name": "Python 3",
   "language": "python",
   "name": "python3"
  },
  "language_info": {
   "codemirror_mode": {
    "name": "ipython",
    "version": 3
   },
   "file_extension": ".py",
   "mimetype": "text/x-python",
   "name": "python",
   "nbconvert_exporter": "python",
   "pygments_lexer": "ipython3",
   "version": "3.6.2"
  }
 },
 "nbformat": 4,
 "nbformat_minor": 2
}
